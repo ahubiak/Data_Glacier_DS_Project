{
 "cells": [
  {
   "cell_type": "markdown",
   "id": "6df98c01",
   "metadata": {},
   "source": [
    "# Bank Marketing Campaign\n",
    "### Alyssa Hubiak and Nasibul Hossain\n",
    "\n",
    "Project Goal: Develop a model to predict whether a customer is likely to buy the bank's product or not. This\n",
    "will help ABC Bank determine where to focus their marketing for their new term deposit\n",
    "product. This will need to be a binary classification model to predict whether the customer will\n",
    "subscribe (1) or not (0).\n",
    "\n",
    "The project will be broken down into several steps:\n",
    "* Initialization\n",
    "* Data Understanding and Preparation\n",
    "* Exploratory Data Analysis\n",
    "* Model Building and Selection\n",
    "* Conclusion and Final Recommendations\n"
   ]
  },
  {
   "cell_type": "markdown",
   "id": "7d83ecdd",
   "metadata": {},
   "source": [
    "## Initialization"
   ]
  },
  {
   "cell_type": "code",
   "execution_count": 1,
   "id": "82d4feac",
   "metadata": {},
   "outputs": [],
   "source": [
    "#reading in necessary libraries\n",
    "import pandas as pd\n",
    "import numpy as np \n",
    "import matplotlib.pyplot as plt"
   ]
  },
  {
   "cell_type": "code",
   "execution_count": 2,
   "id": "f3c95f7c",
   "metadata": {
    "scrolled": false
   },
   "outputs": [
    {
     "data": {
      "text/html": [
       "<div>\n",
       "<style scoped>\n",
       "    .dataframe tbody tr th:only-of-type {\n",
       "        vertical-align: middle;\n",
       "    }\n",
       "\n",
       "    .dataframe tbody tr th {\n",
       "        vertical-align: top;\n",
       "    }\n",
       "\n",
       "    .dataframe thead th {\n",
       "        text-align: right;\n",
       "    }\n",
       "</style>\n",
       "<table border=\"1\" class=\"dataframe\">\n",
       "  <thead>\n",
       "    <tr style=\"text-align: right;\">\n",
       "      <th></th>\n",
       "      <th>age</th>\n",
       "      <th>job</th>\n",
       "      <th>marital</th>\n",
       "      <th>education</th>\n",
       "      <th>default</th>\n",
       "      <th>housing</th>\n",
       "      <th>loan</th>\n",
       "      <th>contact</th>\n",
       "      <th>month</th>\n",
       "      <th>day_of_week</th>\n",
       "      <th>...</th>\n",
       "      <th>campaign</th>\n",
       "      <th>pdays</th>\n",
       "      <th>previous</th>\n",
       "      <th>poutcome</th>\n",
       "      <th>emp.var.rate</th>\n",
       "      <th>cons.price.idx</th>\n",
       "      <th>cons.conf.idx</th>\n",
       "      <th>euribor3m</th>\n",
       "      <th>nr.employed</th>\n",
       "      <th>y</th>\n",
       "    </tr>\n",
       "  </thead>\n",
       "  <tbody>\n",
       "    <tr>\n",
       "      <th>0</th>\n",
       "      <td>56</td>\n",
       "      <td>housemaid</td>\n",
       "      <td>married</td>\n",
       "      <td>basic.4y</td>\n",
       "      <td>no</td>\n",
       "      <td>no</td>\n",
       "      <td>no</td>\n",
       "      <td>telephone</td>\n",
       "      <td>may</td>\n",
       "      <td>mon</td>\n",
       "      <td>...</td>\n",
       "      <td>1</td>\n",
       "      <td>999</td>\n",
       "      <td>0</td>\n",
       "      <td>nonexistent</td>\n",
       "      <td>1.1</td>\n",
       "      <td>93.994</td>\n",
       "      <td>-36.4</td>\n",
       "      <td>4.857</td>\n",
       "      <td>5191.0</td>\n",
       "      <td>no</td>\n",
       "    </tr>\n",
       "    <tr>\n",
       "      <th>1</th>\n",
       "      <td>57</td>\n",
       "      <td>services</td>\n",
       "      <td>married</td>\n",
       "      <td>high.school</td>\n",
       "      <td>unknown</td>\n",
       "      <td>no</td>\n",
       "      <td>no</td>\n",
       "      <td>telephone</td>\n",
       "      <td>may</td>\n",
       "      <td>mon</td>\n",
       "      <td>...</td>\n",
       "      <td>1</td>\n",
       "      <td>999</td>\n",
       "      <td>0</td>\n",
       "      <td>nonexistent</td>\n",
       "      <td>1.1</td>\n",
       "      <td>93.994</td>\n",
       "      <td>-36.4</td>\n",
       "      <td>4.857</td>\n",
       "      <td>5191.0</td>\n",
       "      <td>no</td>\n",
       "    </tr>\n",
       "    <tr>\n",
       "      <th>2</th>\n",
       "      <td>37</td>\n",
       "      <td>services</td>\n",
       "      <td>married</td>\n",
       "      <td>high.school</td>\n",
       "      <td>no</td>\n",
       "      <td>yes</td>\n",
       "      <td>no</td>\n",
       "      <td>telephone</td>\n",
       "      <td>may</td>\n",
       "      <td>mon</td>\n",
       "      <td>...</td>\n",
       "      <td>1</td>\n",
       "      <td>999</td>\n",
       "      <td>0</td>\n",
       "      <td>nonexistent</td>\n",
       "      <td>1.1</td>\n",
       "      <td>93.994</td>\n",
       "      <td>-36.4</td>\n",
       "      <td>4.857</td>\n",
       "      <td>5191.0</td>\n",
       "      <td>no</td>\n",
       "    </tr>\n",
       "    <tr>\n",
       "      <th>3</th>\n",
       "      <td>40</td>\n",
       "      <td>admin.</td>\n",
       "      <td>married</td>\n",
       "      <td>basic.6y</td>\n",
       "      <td>no</td>\n",
       "      <td>no</td>\n",
       "      <td>no</td>\n",
       "      <td>telephone</td>\n",
       "      <td>may</td>\n",
       "      <td>mon</td>\n",
       "      <td>...</td>\n",
       "      <td>1</td>\n",
       "      <td>999</td>\n",
       "      <td>0</td>\n",
       "      <td>nonexistent</td>\n",
       "      <td>1.1</td>\n",
       "      <td>93.994</td>\n",
       "      <td>-36.4</td>\n",
       "      <td>4.857</td>\n",
       "      <td>5191.0</td>\n",
       "      <td>no</td>\n",
       "    </tr>\n",
       "    <tr>\n",
       "      <th>4</th>\n",
       "      <td>56</td>\n",
       "      <td>services</td>\n",
       "      <td>married</td>\n",
       "      <td>high.school</td>\n",
       "      <td>no</td>\n",
       "      <td>no</td>\n",
       "      <td>yes</td>\n",
       "      <td>telephone</td>\n",
       "      <td>may</td>\n",
       "      <td>mon</td>\n",
       "      <td>...</td>\n",
       "      <td>1</td>\n",
       "      <td>999</td>\n",
       "      <td>0</td>\n",
       "      <td>nonexistent</td>\n",
       "      <td>1.1</td>\n",
       "      <td>93.994</td>\n",
       "      <td>-36.4</td>\n",
       "      <td>4.857</td>\n",
       "      <td>5191.0</td>\n",
       "      <td>no</td>\n",
       "    </tr>\n",
       "  </tbody>\n",
       "</table>\n",
       "<p>5 rows × 21 columns</p>\n",
       "</div>"
      ],
      "text/plain": [
       "   age        job  marital    education  default housing loan    contact  \\\n",
       "0   56  housemaid  married     basic.4y       no      no   no  telephone   \n",
       "1   57   services  married  high.school  unknown      no   no  telephone   \n",
       "2   37   services  married  high.school       no     yes   no  telephone   \n",
       "3   40     admin.  married     basic.6y       no      no   no  telephone   \n",
       "4   56   services  married  high.school       no      no  yes  telephone   \n",
       "\n",
       "  month day_of_week  ...  campaign  pdays  previous     poutcome emp.var.rate  \\\n",
       "0   may         mon  ...         1    999         0  nonexistent          1.1   \n",
       "1   may         mon  ...         1    999         0  nonexistent          1.1   \n",
       "2   may         mon  ...         1    999         0  nonexistent          1.1   \n",
       "3   may         mon  ...         1    999         0  nonexistent          1.1   \n",
       "4   may         mon  ...         1    999         0  nonexistent          1.1   \n",
       "\n",
       "   cons.price.idx  cons.conf.idx  euribor3m  nr.employed   y  \n",
       "0          93.994          -36.4      4.857       5191.0  no  \n",
       "1          93.994          -36.4      4.857       5191.0  no  \n",
       "2          93.994          -36.4      4.857       5191.0  no  \n",
       "3          93.994          -36.4      4.857       5191.0  no  \n",
       "4          93.994          -36.4      4.857       5191.0  no  \n",
       "\n",
       "[5 rows x 21 columns]"
      ]
     },
     "execution_count": 2,
     "metadata": {},
     "output_type": "execute_result"
    }
   ],
   "source": [
    "#loading in data\n",
    "bank_data = pd.read_csv('/bank-additional-full.csv', sep=';')\n",
    "#displaying first several rows\n",
    "bank_data.head()"
   ]
  },
  {
   "cell_type": "markdown",
   "id": "9c962ad7",
   "metadata": {},
   "source": [
    "We can see that our dataset is made up of 20 features columns and a single target column. The columns are a mix of numeric and categorical variables. We can now examine our data for cleaning and preparation for use in models."
   ]
  },
  {
   "cell_type": "markdown",
   "id": "698a3178",
   "metadata": {},
   "source": [
    "## Data Understanding and Preparation"
   ]
  },
  {
   "cell_type": "code",
   "execution_count": 3,
   "id": "e8db5a16",
   "metadata": {
    "scrolled": false
   },
   "outputs": [
    {
     "name": "stdout",
     "output_type": "stream",
     "text": [
      "<class 'pandas.core.frame.DataFrame'>\n",
      "RangeIndex: 41188 entries, 0 to 41187\n",
      "Data columns (total 21 columns):\n",
      " #   Column          Non-Null Count  Dtype  \n",
      "---  ------          --------------  -----  \n",
      " 0   age             41188 non-null  int64  \n",
      " 1   job             41188 non-null  object \n",
      " 2   marital         41188 non-null  object \n",
      " 3   education       41188 non-null  object \n",
      " 4   default         41188 non-null  object \n",
      " 5   housing         41188 non-null  object \n",
      " 6   loan            41188 non-null  object \n",
      " 7   contact         41188 non-null  object \n",
      " 8   month           41188 non-null  object \n",
      " 9   day_of_week     41188 non-null  object \n",
      " 10  duration        41188 non-null  int64  \n",
      " 11  campaign        41188 non-null  int64  \n",
      " 12  pdays           41188 non-null  int64  \n",
      " 13  previous        41188 non-null  int64  \n",
      " 14  poutcome        41188 non-null  object \n",
      " 15  emp.var.rate    41188 non-null  float64\n",
      " 16  cons.price.idx  41188 non-null  float64\n",
      " 17  cons.conf.idx   41188 non-null  float64\n",
      " 18  euribor3m       41188 non-null  float64\n",
      " 19  nr.employed     41188 non-null  float64\n",
      " 20  y               41188 non-null  object \n",
      "dtypes: float64(5), int64(5), object(11)\n",
      "memory usage: 6.6+ MB\n"
     ]
    }
   ],
   "source": [
    "#viewing overall dataset info\n",
    "bank_data.info()"
   ]
  },
  {
   "cell_type": "markdown",
   "id": "0512c35a",
   "metadata": {},
   "source": [
    "It appears that we have a total of 41188 rows, with no apparent missing values. Our data types appear to match the column expectations. We will now confirm that there are no missing values by counting null values. "
   ]
  },
  {
   "cell_type": "code",
   "execution_count": 4,
   "id": "74c7ad3a",
   "metadata": {
    "scrolled": false
   },
   "outputs": [
    {
     "data": {
      "text/plain": [
       "age               0\n",
       "job               0\n",
       "marital           0\n",
       "education         0\n",
       "default           0\n",
       "housing           0\n",
       "loan              0\n",
       "contact           0\n",
       "month             0\n",
       "day_of_week       0\n",
       "duration          0\n",
       "campaign          0\n",
       "pdays             0\n",
       "previous          0\n",
       "poutcome          0\n",
       "emp.var.rate      0\n",
       "cons.price.idx    0\n",
       "cons.conf.idx     0\n",
       "euribor3m         0\n",
       "nr.employed       0\n",
       "y                 0\n",
       "dtype: int64"
      ]
     },
     "execution_count": 4,
     "metadata": {},
     "output_type": "execute_result"
    }
   ],
   "source": [
    "#finding count of all null values by column. \n",
    "bank_data.isnull().sum()"
   ]
  },
  {
   "cell_type": "markdown",
   "id": "add1c89b",
   "metadata": {},
   "source": [
    "We can see that there are no missing values which will need to be addressed at this time. We will now begin our column-based examination of out data for skew and potential outliers."
   ]
  },
  {
   "cell_type": "markdown",
   "id": "d7d91698",
   "metadata": {},
   "source": [
    "### Examination of Data by Column"
   ]
  },
  {
   "cell_type": "markdown",
   "id": "67e3c280",
   "metadata": {},
   "source": [
    "##### Day of the Week"
   ]
  },
  {
   "cell_type": "code",
   "execution_count": 5,
   "id": "4eeb1ed2",
   "metadata": {},
   "outputs": [
    {
     "data": {
      "image/png": "[encoded data removed]",
      "text/plain": [
       "<Figure size 432x288 with 1 Axes>"
      ]
     },
     "metadata": {
      "needs_background": "light"
     },
     "output_type": "display_data"
    }
   ],
   "source": [
    "#examination of day_of_week column\n",
    "plt.hist(bank_data['day_of_week'])\n",
    "plt.title('Histograms of Days of Week')\n",
    "plt.xlabel('Day of the Week')\n",
    "plt.show()"
   ]
  },
  {
   "cell_type": "markdown",
   "id": "3432a5a2",
   "metadata": {},
   "source": [
    "It appears that there each day of the week has a relatively similar number of calls; there is not a single day of the week which outperforms the others."
   ]
  },
  {
   "cell_type": "markdown",
   "id": "7a28e1da",
   "metadata": {},
   "source": [
    "##### Call Duration"
   ]
  },
  {
   "cell_type": "code",
   "execution_count": 6,
   "id": "67d7c371",
   "metadata": {
    "scrolled": false
   },
   "outputs": [
    {
     "data": {
      "image/png": "[encoded data removed]",
      "text/plain": [
       "<Figure size 432x288 with 1 Axes>"
      ]
     },
     "metadata": {
      "needs_background": "light"
     },
     "output_type": "display_data"
    }
   ],
   "source": [
    "#creating boxplot of call duration\n",
    "plt.boxplot(bank_data['duration'])\n",
    "plt.title('Boxplot of Call Duration (in Seconds)')\n",
    "plt.show()"
   ]
  },
  {
   "cell_type": "code",
   "execution_count": 7,
   "id": "aa573f2a",
   "metadata": {},
   "outputs": [
    {
     "data": {
      "image/png": "[encoded data removed]",
      "text/plain": [
       "<Figure size 432x288 with 1 Axes>"
      ]
     },
     "metadata": {
      "needs_background": "light"
     },
     "output_type": "display_data"
    }
   ],
   "source": [
    "#creating histogram of call duration\n",
    "plt.hist(bank_data['duration'])\n",
    "plt.title('Histogram of Call Duration')\n",
    "plt.xlabel('Duration (in seconds)')\n",
    "plt.show()"
   ]
  },
  {
   "cell_type": "markdown",
   "id": "c1bf5224",
   "metadata": {},
   "source": [
    "There are a significant number of outliers related to this column and it is right skewed. This is likely due to the majority of calls resulting in no term deposit subscription being close to zero, bringing down the average call time. This would typically need to be addressed prior to model creation, but due to the fact this variable is not known until after the call is completed, it will not be helpful in creating a accurate predictive model. Therefore this feature will be dropped from the dataset after exploration prior to model creation. "
   ]
  },
  {
   "cell_type": "markdown",
   "id": "e162a4d6",
   "metadata": {},
   "source": [
    "##### Campaign (Number of contacts per client)"
   ]
  },
  {
   "cell_type": "code",
   "execution_count": 8,
   "id": "2b304953",
   "metadata": {
    "scrolled": true
   },
   "outputs": [
    {
     "data": {
      "image/png": "[encoded data removed]",
      "text/plain": [
       "<Figure size 432x288 with 1 Axes>"
      ]
     },
     "metadata": {
      "needs_background": "light"
     },
     "output_type": "display_data"
    }
   ],
   "source": [
    "#creating boxplot of campaign\n",
    "plt.boxplot(bank_data['campaign'])\n",
    "plt.title('Boxplot of Number of Contacts per Client')\n",
    "plt.show()"
   ]
  },
  {
   "cell_type": "code",
   "execution_count": 9,
   "id": "0256a1e9",
   "metadata": {
    "scrolled": true
   },
   "outputs": [
    {
     "data": {
      "image/png": "[encoded data removed]",
      "text/plain": [
       "<Figure size 432x288 with 1 Axes>"
      ]
     },
     "metadata": {
      "needs_background": "light"
     },
     "output_type": "display_data"
    }
   ],
   "source": [
    "#creating histogram of campaign\n",
    "plt.hist(bank_data['campaign'])\n",
    "plt.title('Histogram of Number of Contacts per Client')\n",
    "plt.xlabel('Number of Contacts')\n",
    "plt.show()"
   ]
  },
  {
   "cell_type": "markdown",
   "id": "d34f3acb",
   "metadata": {},
   "source": [
    "We can see a similar issue, with large numbers of outliers and righ-skewed data. It can be assumed that since this is likely due to the majority of customers being relatively new, since the values are a count of every time the client has been contacted. It may be worth further exploration into length of time a client has been with the company to see if this has a greater effect on our predictions. "
   ]
  },
  {
   "cell_type": "markdown",
   "id": "974a22f7",
   "metadata": {},
   "source": [
    "##### Pdays (Number of days since last contact of previous campaign)\n",
    "It is important to note that a client which has not been contacted previously will have a pday value of 999. This will make it difficult to interpret a boxplot due to the large spread. Therefore a histogram will be utilized to better examine the data."
   ]
  },
  {
   "cell_type": "code",
   "execution_count": 10,
   "id": "24f66f31",
   "metadata": {},
   "outputs": [
    {
     "data": {
      "image/png": "[encoded data removed]",
      "text/plain": [
       "<Figure size 432x288 with 1 Axes>"
      ]
     },
     "metadata": {
      "needs_background": "light"
     },
     "output_type": "display_data"
    }
   ],
   "source": [
    "#creating histogram of pdays\n",
    "plt.hist(bank_data['pdays'])\n",
    "plt.title('Histogram of Days Since Last Contact per Client')\n",
    "plt.xlabel('Days since last contact')\n",
    "plt.show()"
   ]
  },
  {
   "cell_type": "markdown",
   "id": "5b3e2ab4",
   "metadata": {},
   "source": [
    "As expected, the majority of clients fall into the category of never being contacted, and thus have a value of 999. We will take a closer look at those who have been contacted previously by adjusting our limits. "
   ]
  },
  {
   "cell_type": "code",
   "execution_count": 11,
   "id": "737df427",
   "metadata": {
    "scrolled": true
   },
   "outputs": [
    {
     "data": {
      "image/png": "[encoded data removed]",
      "text/plain": [
       "<Figure size 432x288 with 1 Axes>"
      ]
     },
     "metadata": {
      "needs_background": "light"
     },
     "output_type": "display_data"
    }
   ],
   "source": [
    "#creating histogram of pdays -previously contacted\n",
    "plt.hist(bank_data['pdays'])\n",
    "plt.title('Histogram of Days Since Last Contact per Client')\n",
    "plt.xlabel('Days since last contact')\n",
    "plt.xlim(0,150)\n",
    "plt.ylim(0, 3000)\n",
    "plt.show()"
   ]
  },
  {
   "cell_type": "markdown",
   "id": "7c20a212",
   "metadata": {},
   "source": [
    "It appears that all the customers that have been contacted fall within the previously 100 days."
   ]
  },
  {
   "cell_type": "markdown",
   "id": "1740811d",
   "metadata": {},
   "source": [
    "##### Previous (Total number of contacts from previous campaign)"
   ]
  },
  {
   "cell_type": "code",
   "execution_count": 12,
   "id": "a1b3e33c",
   "metadata": {
    "scrolled": true
   },
   "outputs": [
    {
     "data": {
      "image/png": "[encoded data removed]",
      "text/plain": [
       "<Figure size 432x288 with 1 Axes>"
      ]
     },
     "metadata": {
      "needs_background": "light"
     },
     "output_type": "display_data"
    }
   ],
   "source": [
    "#creating histogram of previous\n",
    "plt.hist(bank_data['previous'])\n",
    "plt.title('Histogram of Total Number of Contacts from Previous Campaign')\n",
    "plt.xlabel('Total Number of Contacts')\n",
    "plt.show()"
   ]
  },
  {
   "cell_type": "markdown",
   "id": "f705ec79",
   "metadata": {},
   "source": [
    "As expected based on our previous column, there are a large number of clients which have never been contacted prior, resulting in a right-skewed data set."
   ]
  },
  {
   "cell_type": "markdown",
   "id": "135a2056",
   "metadata": {},
   "source": [
    "##### POutcome (Outcome of previous campaign)"
   ]
  },
  {
   "cell_type": "code",
   "execution_count": 13,
   "id": "097ad9df",
   "metadata": {
    "scrolled": true
   },
   "outputs": [
    {
     "data": {
      "image/png": "[encoded data removed]",
      "text/plain": [
       "<Figure size 432x288 with 1 Axes>"
      ]
     },
     "metadata": {
      "needs_background": "light"
     },
     "output_type": "display_data"
    }
   ],
   "source": [
    "#creating histogram of poutcome\n",
    "plt.hist(bank_data['poutcome'])\n",
    "plt.title('Histogram of Previous Campaign Outcome')\n",
    "plt.xlabel('Outcome')\n",
    "plt.show()"
   ]
  },
  {
   "cell_type": "code",
   "execution_count": 14,
   "id": "4edbf0c0",
   "metadata": {},
   "outputs": [
    {
     "data": {
      "text/plain": [
       "nonexistent    35563\n",
       "failure         4252\n",
       "success         1373\n",
       "Name: poutcome, dtype: int64"
      ]
     },
     "execution_count": 14,
     "metadata": {},
     "output_type": "execute_result"
    }
   ],
   "source": [
    "bank_data['poutcome'].value_counts()"
   ]
  },
  {
   "cell_type": "markdown",
   "id": "21d0b3c4",
   "metadata": {},
   "source": [
    "As we have so many new clients in this dataset, the majority of this column is nonexistent. However, we can see that the majority of the contacts were a failure, at 4252 failures compared to only 1373 successes."
   ]
  },
  {
   "cell_type": "markdown",
   "id": "33df5045",
   "metadata": {},
   "source": [
    "We will now examine the social and economic context attributes"
   ]
  },
  {
   "cell_type": "markdown",
   "id": "6432a8d0",
   "metadata": {},
   "source": [
    "##### Emp.Var.Rate (employment variation rate - quarterly indicator)"
   ]
  },
  {
   "cell_type": "code",
   "execution_count": 15,
   "id": "16c7f8e3",
   "metadata": {
    "scrolled": true
   },
   "outputs": [
    {
     "data": {
      "image/png": "[encoded data removed]",
      "text/plain": [
       "<Figure size 432x288 with 1 Axes>"
      ]
     },
     "metadata": {
      "needs_background": "light"
     },
     "output_type": "display_data"
    }
   ],
   "source": [
    "#creating histogram of emp.var.rate\n",
    "plt.hist(bank_data['emp.var.rate'])\n",
    "plt.title('Histogram of Employment Variation Rate (quarterly)')\n",
    "plt.xlabel('Rate')\n",
    "plt.show()"
   ]
  },
  {
   "cell_type": "markdown",
   "id": "57003944",
   "metadata": {},
   "source": [
    "##### Cons.Price.Idx (consumer price index - monthly indicator)"
   ]
  },
  {
   "cell_type": "code",
   "execution_count": 16,
   "id": "0ddf6dee",
   "metadata": {},
   "outputs": [
    {
     "data": {
      "image/png": "[encoded data removed]",
      "text/plain": [
       "<Figure size 432x288 with 1 Axes>"
      ]
     },
     "metadata": {
      "needs_background": "light"
     },
     "output_type": "display_data"
    }
   ],
   "source": [
    "#creating histogram of cons.price.idx\n",
    "plt.hist(bank_data['cons.price.idx'])\n",
    "plt.title('Histogram of Consumer Price Index (monthly)')\n",
    "plt.xlabel('Index')\n",
    "plt.show()"
   ]
  },
  {
   "cell_type": "markdown",
   "id": "4078c56f",
   "metadata": {},
   "source": [
    "##### Cons.Conf.Idx (consumer confidence index - monthly indicator)"
   ]
  },
  {
   "cell_type": "code",
   "execution_count": 17,
   "id": "474dfa45",
   "metadata": {
    "scrolled": true
   },
   "outputs": [
    {
     "data": {
      "image/png": "[encoded data removed]",
      "text/plain": [
       "<Figure size 432x288 with 1 Axes>"
      ]
     },
     "metadata": {
      "needs_background": "light"
     },
     "output_type": "display_data"
    }
   ],
   "source": [
    "#creating histogram of cons.conf.idx\n",
    "plt.hist(bank_data['cons.conf.idx'])\n",
    "plt.title('Histogram of Consumer Confidence Index (monthly)')\n",
    "plt.xlabel('Index')\n",
    "plt.show()"
   ]
  },
  {
   "cell_type": "markdown",
   "id": "40984bbc",
   "metadata": {},
   "source": [
    "##### Euribor3m (euribor 3 month rate - daily indicator)"
   ]
  },
  {
   "cell_type": "code",
   "execution_count": 18,
   "id": "c947f679",
   "metadata": {
    "scrolled": true
   },
   "outputs": [
    {
     "data": {
      "image/png": "[encoded data removed]",
      "text/plain": [
       "<Figure size 432x288 with 1 Axes>"
      ]
     },
     "metadata": {
      "needs_background": "light"
     },
     "output_type": "display_data"
    }
   ],
   "source": [
    "#creating histogram of euribor3m\n",
    "plt.hist(bank_data['euribor3m'])\n",
    "plt.title('Histogram of Euribor 3 Month Rate (daily)')\n",
    "plt.xlabel('Rate')\n",
    "plt.show()"
   ]
  },
  {
   "cell_type": "markdown",
   "id": "83527588",
   "metadata": {},
   "source": [
    "##### Nr.Employed (number of employees - quarterly indicator)"
   ]
  },
  {
   "cell_type": "code",
   "execution_count": 19,
   "id": "4a298809",
   "metadata": {},
   "outputs": [
    {
     "data": {
      "image/png": "[encoded data removed]",
      "text/plain": [
       "<Figure size 432x288 with 1 Axes>"
      ]
     },
     "metadata": {
      "needs_background": "light"
     },
     "output_type": "display_data"
    }
   ],
   "source": [
    "#creating histogram of nr.employed\n",
    "plt.hist(bank_data['nr.employed'])\n",
    "plt.title('Histogram of Number Employed (quarterly)')\n",
    "plt.xlabel('Number Employed')\n",
    "plt.show()"
   ]
  },
  {
   "cell_type": "markdown",
   "id": "c4794e23",
   "metadata": {},
   "source": [
    "Overall, all of our social and economic data shows no significant evidence for skew or outliers which will need to be addressed."
   ]
  },
  {
   "cell_type": "markdown",
   "id": "df638953",
   "metadata": {},
   "source": [
    "#### Y (Whether client subsribed to new term deposit)"
   ]
  },
  {
   "cell_type": "code",
   "execution_count": 20,
   "id": "6adeabf5",
   "metadata": {},
   "outputs": [
    {
     "data": {
      "image/png": "[encoded data removed]",
      "text/plain": [
       "<Figure size 432x288 with 1 Axes>"
      ]
     },
     "metadata": {
      "needs_background": "light"
     },
     "output_type": "display_data"
    }
   ],
   "source": [
    "#creating histogram of y\n",
    "plt.hist(bank_data['y'])\n",
    "plt.title('Subscription to New Term Deposit')\n",
    "plt.show()"
   ]
  },
  {
   "cell_type": "code",
   "execution_count": 21,
   "id": "57de7827",
   "metadata": {
    "scrolled": true
   },
   "outputs": [
    {
     "data": {
      "text/plain": [
       "no     36548\n",
       "yes     4640\n",
       "Name: y, dtype: int64"
      ]
     },
     "execution_count": 21,
     "metadata": {},
     "output_type": "execute_result"
    }
   ],
   "source": [
    "bank_data['y'].value_counts()"
   ]
  },
  {
   "cell_type": "markdown",
   "id": "4dd8c93e",
   "metadata": {},
   "source": [
    "Our value count shows a clear class imbalance with approximately 89% of users not subscribing to the term deposit. This may result in issues later on in our model creation, and will need to be addressed."
   ]
  }
 ],
 "metadata": {
  "kernelspec": {
   "display_name": "Python 3 (ipykernel)",
   "language": "python",
   "name": "python3"
  },
  "language_info": {
   "codemirror_mode": {
    "name": "ipython",
    "version": 3
   },
   "file_extension": ".py",
   "mimetype": "text/x-python",
   "name": "python",
   "nbconvert_exporter": "python",
   "pygments_lexer": "ipython3",
   "version": "3.8.12"
  }
 },
 "nbformat": 4,
 "nbformat_minor": 5
}
